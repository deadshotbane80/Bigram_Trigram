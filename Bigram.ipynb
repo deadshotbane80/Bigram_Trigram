{
  "nbformat": 4,
  "nbformat_minor": 0,
  "metadata": {
    "colab": {
      "provenance": [],
      "authorship_tag": "ABX9TyMIaRjDpzn4ltSrlCQqVB9y",
      "include_colab_link": true
    },
    "kernelspec": {
      "name": "python3",
      "display_name": "Python 3"
    },
    "language_info": {
      "name": "python"
    }
  },
  "cells": [
    {
      "cell_type": "markdown",
      "metadata": {
        "id": "view-in-github",
        "colab_type": "text"
      },
      "source": [
        "<a href=\"https://colab.research.google.com/github/deadshotbane80/Bigram_Trigram/blob/main/Bigram.ipynb\" target=\"_parent\"><img src=\"https://colab.research.google.com/assets/colab-badge.svg\" alt=\"Open In Colab\"/></a>"
      ]
    },
    {
      "cell_type": "code",
      "source": [
        "import torch\n",
        "import torch.nn.functional as F\n",
        "import matplotlib.pyplot as plt # for making figures\n",
        "%matplotlib inline\n"
      ],
      "metadata": {
        "id": "9Ai5pHSZu61e"
      },
      "execution_count": 18,
      "outputs": []
    },
    {
      "cell_type": "code",
      "execution_count": 2,
      "metadata": {
        "colab": {
          "base_uri": "https://localhost:8080/"
        },
        "id": "IvKZS4maru48",
        "outputId": "87180d6f-b661-44e9-88fb-179f99beed05"
      },
      "outputs": [
        {
          "output_type": "execute_result",
          "data": {
            "text/plain": [
              "['emma', 'olivia', 'ava', 'isabella', 'sophia']"
            ]
          },
          "metadata": {},
          "execution_count": 2
        }
      ],
      "source": [
        "words = open('names.txt','r').read().splitlines()\n",
        "words[:5]"
      ]
    },
    {
      "cell_type": "code",
      "source": [
        "chars = sorted(list(set(''.join(words))))"
      ],
      "metadata": {
        "id": "8wbxC-CqtTaZ"
      },
      "execution_count": 3,
      "outputs": []
    },
    {
      "cell_type": "code",
      "source": [
        "stoi = {s:i+1 for i,s in enumerate(chars)}\n",
        "stoi['.'] = 0\n",
        "itos = {i:s for s,i in stoi.items()}\n"
      ],
      "metadata": {
        "id": "8L3JJ1wptiIV"
      },
      "execution_count": 35,
      "outputs": []
    },
    {
      "cell_type": "code",
      "source": [
        "#Creating the dataset for training\n",
        "X,Y = [],[]\n",
        "for w in words:\n",
        "  nword = ['.'] + list(w) + ['.']\n",
        "  for ch1,ch2 in zip(nword,nword[1:]):\n",
        "    ix1 = stoi[ch1]\n",
        "    ix2 = stoi[ch2]\n",
        "    X.append(ix1)\n",
        "    Y.append(ix2)\n",
        "    # print(ch1,ch2)\n",
        "X = torch.tensor(X)\n",
        "Y = torch.tensor(Y)"
      ],
      "metadata": {
        "id": "6hBuWwr_tNtM"
      },
      "execution_count": 40,
      "outputs": []
    },
    {
      "cell_type": "code",
      "source": [
        "g = torch.Generator().manual_seed(2147483647)\n",
        "xenc = F.one_hot(X,num_classes = 27).float()\n",
        "W = torch.randn((27,27),generator = g,requires_grad = True)\n",
        "parameters = [W]"
      ],
      "metadata": {
        "id": "3UZBo8kVvE_L"
      },
      "execution_count": 45,
      "outputs": []
    },
    {
      "cell_type": "code",
      "source": [
        "#Gradient Descent\n",
        "li = []\n",
        "for i in range(100):\n",
        "  #forward propagation\n",
        "  logits = (xenc @ W)\n",
        "  counts = logits.exp()\n",
        "  probs = counts/counts.sum(1,keepdim = True)\n",
        "  loss = -probs[torch.arange(len(X)),Y].log().mean() #Softmax\n",
        "  #Backward pass\n",
        "  for p in parameters:\n",
        "    p.grad = None\n",
        "  loss.backward()\n",
        "  # print(loss.item())\n",
        "  li.append(loss.item())\n",
        "  #Update\n",
        "  for p in parameters:\n",
        "    p.data += -50*p.grad\n",
        "print(loss.item())"
      ],
      "metadata": {
        "colab": {
          "base_uri": "https://localhost:8080/"
        },
        "id": "o9xwuWR85QGG",
        "outputId": "29c2c0b8-997c-4e48-d98b-83b02eadf2dc"
      },
      "execution_count": 46,
      "outputs": [
        {
          "output_type": "stream",
          "name": "stdout",
          "text": [
            "2.4728763103485107\n"
          ]
        }
      ]
    },
    {
      "cell_type": "code",
      "source": [
        "plt.plot(p,li) #for plotting loss with iterations"
      ],
      "metadata": {
        "colab": {
          "base_uri": "https://localhost:8080/",
          "height": 448
        },
        "id": "DbuWSgpIfsdK",
        "outputId": "48646c59-9f24-4ec5-b9ec-29eb2e607231"
      },
      "execution_count": 28,
      "outputs": [
        {
          "output_type": "execute_result",
          "data": {
            "text/plain": [
              "[<matplotlib.lines.Line2D at 0x7f9b86fdb700>]"
            ]
          },
          "metadata": {},
          "execution_count": 28
        },
        {
          "output_type": "display_data",
          "data": {
            "text/plain": [
              "<Figure size 640x480 with 1 Axes>"
            ],
            "image/png": "[encoded data removed]"
          },
          "metadata": {}
        }
      ]
    },
    {
      "cell_type": "code",
      "source": [
        "for i in range(20):\n",
        "  ix = 0\n",
        "  name = []\n",
        "  while True:\n",
        "    xenc = F.one_hot(torch.tensor([ix]), num_classes=27).float()\n",
        "    logits = (xenc @ W)\n",
        "    counts = logits.exp()\n",
        "    probs = counts/counts.sum(1,keepdim = True)\n",
        "    ix = torch.multinomial(probs,num_samples = 1,replacement = True,generator = g).item()\n",
        "    name.append(itos[ix])\n",
        "    if ix == 0:\n",
        "      break\n",
        "  print(''.join(name))"
      ],
      "metadata": {
        "colab": {
          "base_uri": "https://localhost:8080/"
        },
        "id": "c_ClLZDle2m_",
        "outputId": "49945eee-a0ef-48b4-dfc3-20729fd1c1fe"
      },
      "execution_count": 47,
      "outputs": [
        {
          "output_type": "stream",
          "name": "stdout",
          "text": [
            "morvann.\n",
            "akela.\n",
            "az.\n",
            "arileri.\n",
            "chaiadayra.\n",
            "fbrlqwouseyton.\n",
            "za.\n",
            "sabran.\n",
            "han.\n",
            "ke.\n",
            "etamete.\n",
            "conakin.\n",
            "lalastan.\n",
            "tcyonanisemyn.\n",
            "lewlixin.\n",
            "kadarekan.\n",
            "ljagkin.\n",
            "mfian.\n",
            "kicnaylula.\n",
            "jvy.\n"
          ]
        }
      ]
    }
  ]
}