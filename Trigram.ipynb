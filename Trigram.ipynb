{
  "nbformat": 4,
  "nbformat_minor": 0,
  "metadata": {
    "colab": {
      "provenance": [],
      "authorship_tag": "ABX9TyMt7bQUntRGVfLJXpFYhyjN",
      "include_colab_link": true
    },
    "kernelspec": {
      "name": "python3",
      "display_name": "Python 3"
    },
    "language_info": {
      "name": "python"
    }
  },
  "cells": [
    {
      "cell_type": "markdown",
      "metadata": {
        "id": "view-in-github",
        "colab_type": "text"
      },
      "source": [
        "<a href=\"https://colab.research.google.com/github/deadshotbane80/Bigram_Trigram/blob/main/Trigram.ipynb\" target=\"_parent\"><img src=\"https://colab.research.google.com/assets/colab-badge.svg\" alt=\"Open In Colab\"/></a>"
      ]
    },
    {
      "cell_type": "code",
      "source": [
        "import torch\n",
        "import torch.nn.functional as F\n",
        "import matplotlib.pyplot as plt"
      ],
      "metadata": {
        "id": "o6q7pcqFmetF"
      },
      "execution_count": 24,
      "outputs": []
    },
    {
      "cell_type": "code",
      "source": [
        "words = open('names.txt','r').read().splitlines()"
      ],
      "metadata": {
        "id": "9z-zQEyvkU2_"
      },
      "execution_count": 1,
      "outputs": []
    },
    {
      "cell_type": "code",
      "source": [
        "chars = sorted(list(set(''.join(words))))"
      ],
      "metadata": {
        "id": "cOtVpRSYlXCz"
      },
      "execution_count": 2,
      "outputs": []
    },
    {
      "cell_type": "code",
      "source": [
        "stoi = {s:i+1 for i,s in enumerate(chars)}\n",
        "stoi['.'] = 0\n",
        "itos = {i:s for s,i in stoi.items()}\n",
        "itos"
      ],
      "metadata": {
        "colab": {
          "base_uri": "https://localhost:8080/"
        },
        "id": "mbjZ0beQlbgi",
        "outputId": "5f49fd14-710f-472c-87d9-192de5fcaa3b"
      },
      "execution_count": 3,
      "outputs": [
        {
          "output_type": "execute_result",
          "data": {
            "text/plain": [
              "{1: 'a',\n",
              " 2: 'b',\n",
              " 3: 'c',\n",
              " 4: 'd',\n",
              " 5: 'e',\n",
              " 6: 'f',\n",
              " 7: 'g',\n",
              " 8: 'h',\n",
              " 9: 'i',\n",
              " 10: 'j',\n",
              " 11: 'k',\n",
              " 12: 'l',\n",
              " 13: 'm',\n",
              " 14: 'n',\n",
              " 15: 'o',\n",
              " 16: 'p',\n",
              " 17: 'q',\n",
              " 18: 'r',\n",
              " 19: 's',\n",
              " 20: 't',\n",
              " 21: 'u',\n",
              " 22: 'v',\n",
              " 23: 'w',\n",
              " 24: 'x',\n",
              " 25: 'y',\n",
              " 26: 'z',\n",
              " 0: '.'}"
            ]
          },
          "metadata": {},
          "execution_count": 3
        }
      ]
    },
    {
      "cell_type": "code",
      "source": [
        "#Creating the dataset\n",
        "X,Y = [],[]\n",
        "for word in words:\n",
        "  nword = ['.'] + list(word) + ['.']\n",
        "  for ch1,ch2,ch3 in zip(nword,nword[1:],nword[2:]):\n",
        "    ix1 = stoi[ch1]\n",
        "    ix2 = stoi[ch2]\n",
        "    ix3 = stoi[ch3]\n",
        "    # print(ch1,ch2,ch3)\n",
        "    X.append([ix1,ix2])\n",
        "    Y.append(ix3)\n",
        "X = torch.tensor(X)\n",
        "Y = torch.tensor(Y)"
      ],
      "metadata": {
        "id": "2pAxgqTjlseT"
      },
      "execution_count": 79,
      "outputs": []
    },
    {
      "cell_type": "code",
      "source": [
        "print(X)\n",
        "print(Y)"
      ],
      "metadata": {
        "colab": {
          "base_uri": "https://localhost:8080/"
        },
        "id": "VHDy5-0kmz5j",
        "outputId": "6f539dd2-37ee-45e9-ed21-65d0ba83de66"
      },
      "execution_count": 8,
      "outputs": [
        {
          "output_type": "stream",
          "name": "stdout",
          "text": [
            "tensor([[ 0,  5],\n",
            "        [ 5, 13],\n",
            "        [13, 13],\n",
            "        [13,  1]])\n",
            "tensor([13, 13,  1,  0])\n"
          ]
        }
      ]
    },
    {
      "cell_type": "code",
      "source": [
        "xenc = F.one_hot(X,num_classes = 27).float()\n",
        "xenc.shape"
      ],
      "metadata": {
        "colab": {
          "base_uri": "https://localhost:8080/"
        },
        "id": "__hDfXlAmqv3",
        "outputId": "61807bac-1a4f-4660-f2b1-6dd56036681c"
      },
      "execution_count": 80,
      "outputs": [
        {
          "output_type": "execute_result",
          "data": {
            "text/plain": [
              "torch.Size([196113, 2, 27])"
            ]
          },
          "metadata": {},
          "execution_count": 80
        }
      ]
    },
    {
      "cell_type": "code",
      "source": [
        "g = torch.Generator().manual_seed(2147483647)\n",
        "W = torch.randn((54,27),generator = g,requires_grad = True)"
      ],
      "metadata": {
        "id": "nmEqU7TdnF2H"
      },
      "execution_count": 86,
      "outputs": []
    },
    {
      "cell_type": "code",
      "source": [
        "li = []\n",
        "p = []"
      ],
      "metadata": {
        "id": "H6lcwABsn5oz"
      },
      "execution_count": 87,
      "outputs": []
    },
    {
      "cell_type": "code",
      "source": [
        "\n",
        "for i in range(100):\n",
        "  #forward pass\n",
        "  logits = xenc.view(-1,54) @ W\n",
        "  counts = logits.exp()\n",
        "  probs = counts/counts.sum(1,keepdim = True)\n",
        "  loss = -probs[torch.arange(len(X)),Y].log().mean()\n",
        "\n",
        "  #backward pass\n",
        "  W.grad = None\n",
        "  loss.backward()\n",
        "  li.append(loss.item())\n",
        "  p.append(i)\n",
        "  #update\n",
        "  W.data += -50*W.grad\n",
        "print(loss.item())"
      ],
      "metadata": {
        "colab": {
          "base_uri": "https://localhost:8080/"
        },
        "id": "m3qIrqkbnb0d",
        "outputId": "d9a207ff-d288-4d2d-fa3d-52dd692436de"
      },
      "execution_count": 90,
      "outputs": [
        {
          "output_type": "stream",
          "name": "stdout",
          "text": [
            "2.2414815425872803\n"
          ]
        }
      ]
    },
    {
      "cell_type": "code",
      "source": [
        "plt.plot(p,li)"
      ],
      "metadata": {
        "colab": {
          "base_uri": "https://localhost:8080/",
          "height": 448
        },
        "id": "-3S5L5whpQAN",
        "outputId": "7dc02f57-8094-4581-ca00-65f2bd0687ba"
      },
      "execution_count": 89,
      "outputs": [
        {
          "output_type": "execute_result",
          "data": {
            "text/plain": [
              "[<matplotlib.lines.Line2D at 0x7f77dd5521a0>]"
            ]
          },
          "metadata": {},
          "execution_count": 89
        },
        {
          "output_type": "display_data",
          "data": {
            "text/plain": [
              "<Figure size 640x480 with 1 Axes>"
            ],
            "image/png": "[encoded data removed]"
          },
          "metadata": {}
        }
      ]
    },
    {
      "cell_type": "code",
      "source": [
        "for i in range(20):\n",
        "  name = []\n",
        "  ix = 0\n",
        "  while True:\n",
        "    xenc = F.one_hot(torch.tensor([ix]),num_classes = 54).float()\n",
        "    logits = xenc.view(1,54) @ W\n",
        "    counts = logits.exp()\n",
        "    probs = counts/counts.sum(1,keepdim = True)\n",
        "    ix = torch.multinomial(probs,num_samples = 1,replacement = True,generator = g).item()\n",
        "    name.append(itos[ix])\n",
        "    if ix == 0:\n",
        "      break\n",
        "  print(''.join(name))"
      ],
      "metadata": {
        "colab": {
          "base_uri": "https://localhost:8080/"
        },
        "id": "8Y_fWlJAq4na",
        "outputId": "908846c8-6d29-4a35-c680-1387dd93401e"
      },
      "execution_count": 91,
      "outputs": [
        {
          "output_type": "stream",
          "name": "stdout",
          "text": [
            "owo.\n",
            "adi.\n",
            "ies.\n",
            "lhyiaitmin.\n",
            "afzyinlcirzan.\n",
            "hpi.\n",
            "o.\n",
            "halar.\n",
            "m.\n",
            "zvki.\n",
            "khtaezezielo.\n",
            "eryekecdnu.\n",
            "budhisiagaa.\n",
            "n.\n",
            "dfinabtmuthaaihwvyu.\n",
            "coadvelesfrui.\n",
            "yltelyha.\n",
            "aftfr.\n",
            "youpe.\n",
            "eeppuocevrali.\n"
          ]
        }
      ]
    }
  ]
}